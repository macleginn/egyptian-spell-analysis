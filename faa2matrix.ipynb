{
 "cells": [
  {
   "cell_type": "code",
   "execution_count": 1,
   "metadata": {},
   "outputs": [],
   "source": [
    "import os"
   ]
  },
  {
   "cell_type": "code",
   "execution_count": 2,
   "metadata": {},
   "outputs": [],
   "source": [
    "files = [f for f in os.listdir() if f.endswith('faa')]"
   ]
  },
  {
   "cell_type": "code",
   "execution_count": 3,
   "metadata": {},
   "outputs": [
    {
     "data": {
      "text/plain": [
       "['Spell1.faa',\n",
       " 'Spell398.faa',\n",
       " 'Spell162.faa',\n",
       " 'Spell3.faa',\n",
       " 'Spell4.faa',\n",
       " 'Spell335.faa']"
      ]
     },
     "execution_count": 3,
     "metadata": {},
     "output_type": "execute_result"
    }
   ],
   "source": [
    "files"
   ]
  },
  {
   "cell_type": "code",
   "execution_count": 14,
   "metadata": {},
   "outputs": [],
   "source": [
    "spells = {}\n",
    "current_name = ''\n",
    "for f in files:\n",
    "    spells[f[:-4]] = {}\n",
    "    with open(f, 'r', encoding='utf-8') as inp:\n",
    "        lines = inp.readlines()\n",
    "    for i, l in enumerate(lines):\n",
    "        l = l.strip('\\n\\t> ')\n",
    "        if i % 2 == 0:\n",
    "            current_name = l\n",
    "        else:\n",
    "            spells[f[:-4]][current_name] = list(l)"
   ]
  },
  {
   "cell_type": "code",
   "execution_count": 17,
   "metadata": {},
   "outputs": [],
   "source": [
    "for spell_name in spells:\n",
    "    with open(f'{spell_name}.csv', 'w', encoding='utf-8') as out:\n",
    "        for source in spells[spell_name]:\n",
    "            row = '\\t'.join(spells[spell_name][source])\n",
    "            out.write(f'{source}\\t{row}\\n')"
   ]
  }
 ],
 "metadata": {
  "kernelspec": {
   "display_name": "Python 3",
   "language": "python",
   "name": "python3"
  },
  "language_info": {
   "codemirror_mode": {
    "name": "ipython",
    "version": 3
   },
   "file_extension": ".py",
   "mimetype": "text/x-python",
   "name": "python",
   "nbconvert_exporter": "python",
   "pygments_lexer": "ipython3",
   "version": "3.7.3"
  }
 },
 "nbformat": 4,
 "nbformat_minor": 2
}
